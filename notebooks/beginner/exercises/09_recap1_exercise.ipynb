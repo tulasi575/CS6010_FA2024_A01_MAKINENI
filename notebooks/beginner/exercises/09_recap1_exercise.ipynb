{
 "cells": [
  {
   "cell_type": "markdown",
   "metadata": {},
   "source": [
    "# 1. Super vowels\n",
    "Implement `super_vowels` function which takes a string as an argument and returns a modified version of that string. In the return value of `super_vowels`, all vowels should be in upper case whereas all consonants should be in lower case. The vowels are listed in the `VOWELS` variable."
   ]
  },
  {
   "cell_type": "code",
   "execution_count": 5,
   "metadata": {
    "editable": false
   },
   "outputs": [],
   "source": [
    "VOWELS = [\"a\", \"e\", \"i\", \"o\", \"u\",\"O\",\"A\",\"E\",\"I\",\"U\"]\n"
   ]
  },
  {
   "cell_type": "code",
   "execution_count": 6,
   "metadata": {},
   "outputs": [],
   "source": [
    "# Your implementation here\n",
    "def super_vowels(text):\n",
    "    # Convert each character in the text based on whether it's a vowel or consonant\n",
    "    modified_text = ''.join(char.upper() if char in VOWELS else char.lower() for char in text)\n",
    "    return modified_text"
   ]
  },
  {
   "cell_type": "code",
   "execution_count": 7,
   "metadata": {
    "editable": false
   },
   "outputs": [],
   "source": [
    "assert super_vowels(\"hi wassup!\") == \"hI wAssUp!\"\n",
    "assert super_vowels(\"HOw aRE You?\") == \"hOw ArE yOU?\""
   ]
  },
  {
   "cell_type": "markdown",
   "metadata": {},
   "source": [
    "# 2. Playing board\n",
    "Implement `get_playing_board` function which takes an integer as an argument. The function should return a string which resemples a playing board (e.g. a chess board). The board should contain as many rows and columns as requested by the interger argument. See the cell below for examples of desired behavior.\n"
   ]
  },
  {
   "cell_type": "code",
   "execution_count": 8,
   "metadata": {},
   "outputs": [],
   "source": [
    "# Your implementation here\n",
    "def get_playing_board(num):\n",
    "    board = \"\"\n",
    "    for i in range(num):\n",
    "        row = \"\"\n",
    "        for j in range(num):\n",
    "            if (i + j) % 2 == 0:\n",
    "                row += \" \"\n",
    "            else:\n",
    "                row += \"*\"\n",
    "        board += row + \"\\n\"\n",
    "    return board"
   ]
  },
  {
   "cell_type": "code",
   "execution_count": 9,
   "metadata": {
    "editable": false
   },
   "outputs": [
    {
     "name": "stdout",
     "output_type": "stream",
     "text": [
      " * * * * * * * * * * * * * * * * * * * * * * * * *\n",
      "* * * * * * * * * * * * * * * * * * * * * * * * * \n",
      " * * * * * * * * * * * * * * * * * * * * * * * * *\n",
      "* * * * * * * * * * * * * * * * * * * * * * * * * \n",
      " * * * * * * * * * * * * * * * * * * * * * * * * *\n",
      "* * * * * * * * * * * * * * * * * * * * * * * * * \n",
      " * * * * * * * * * * * * * * * * * * * * * * * * *\n",
      "* * * * * * * * * * * * * * * * * * * * * * * * * \n",
      " * * * * * * * * * * * * * * * * * * * * * * * * *\n",
      "* * * * * * * * * * * * * * * * * * * * * * * * * \n",
      " * * * * * * * * * * * * * * * * * * * * * * * * *\n",
      "* * * * * * * * * * * * * * * * * * * * * * * * * \n",
      " * * * * * * * * * * * * * * * * * * * * * * * * *\n",
      "* * * * * * * * * * * * * * * * * * * * * * * * * \n",
      " * * * * * * * * * * * * * * * * * * * * * * * * *\n",
      "* * * * * * * * * * * * * * * * * * * * * * * * * \n",
      " * * * * * * * * * * * * * * * * * * * * * * * * *\n",
      "* * * * * * * * * * * * * * * * * * * * * * * * * \n",
      " * * * * * * * * * * * * * * * * * * * * * * * * *\n",
      "* * * * * * * * * * * * * * * * * * * * * * * * * \n",
      " * * * * * * * * * * * * * * * * * * * * * * * * *\n",
      "* * * * * * * * * * * * * * * * * * * * * * * * * \n",
      " * * * * * * * * * * * * * * * * * * * * * * * * *\n",
      "* * * * * * * * * * * * * * * * * * * * * * * * * \n",
      " * * * * * * * * * * * * * * * * * * * * * * * * *\n",
      "* * * * * * * * * * * * * * * * * * * * * * * * * \n",
      " * * * * * * * * * * * * * * * * * * * * * * * * *\n",
      "* * * * * * * * * * * * * * * * * * * * * * * * * \n",
      " * * * * * * * * * * * * * * * * * * * * * * * * *\n",
      "* * * * * * * * * * * * * * * * * * * * * * * * * \n",
      " * * * * * * * * * * * * * * * * * * * * * * * * *\n",
      "* * * * * * * * * * * * * * * * * * * * * * * * * \n",
      " * * * * * * * * * * * * * * * * * * * * * * * * *\n",
      "* * * * * * * * * * * * * * * * * * * * * * * * * \n",
      " * * * * * * * * * * * * * * * * * * * * * * * * *\n",
      "* * * * * * * * * * * * * * * * * * * * * * * * * \n",
      " * * * * * * * * * * * * * * * * * * * * * * * * *\n",
      "* * * * * * * * * * * * * * * * * * * * * * * * * \n",
      " * * * * * * * * * * * * * * * * * * * * * * * * *\n",
      "* * * * * * * * * * * * * * * * * * * * * * * * * \n",
      " * * * * * * * * * * * * * * * * * * * * * * * * *\n",
      "* * * * * * * * * * * * * * * * * * * * * * * * * \n",
      " * * * * * * * * * * * * * * * * * * * * * * * * *\n",
      "* * * * * * * * * * * * * * * * * * * * * * * * * \n",
      " * * * * * * * * * * * * * * * * * * * * * * * * *\n",
      "* * * * * * * * * * * * * * * * * * * * * * * * * \n",
      " * * * * * * * * * * * * * * * * * * * * * * * * *\n",
      "* * * * * * * * * * * * * * * * * * * * * * * * * \n",
      " * * * * * * * * * * * * * * * * * * * * * * * * *\n",
      "* * * * * * * * * * * * * * * * * * * * * * * * * \n",
      "\n"
     ]
    }
   ],
   "source": [
    "board_of_5 = \" * * \\n\" \"* * *\\n\" \" * * \\n\" \"* * *\\n\" \" * * \\n\"\n",
    "\n",
    "board_of_10 = (\n",
    "    \" * * * * *\\n\"\n",
    "    \"* * * * * \\n\"\n",
    "    \" * * * * *\\n\"\n",
    "    \"* * * * * \\n\"\n",
    "    \" * * * * *\\n\"\n",
    "    \"* * * * * \\n\"\n",
    "    \" * * * * *\\n\"\n",
    "    \"* * * * * \\n\"\n",
    "    \" * * * * *\\n\"\n",
    "    \"* * * * * \\n\"\n",
    ")\n",
    "\n",
    "assert get_playing_board(5) == board_of_5\n",
    "assert get_playing_board(10) == board_of_10\n",
    "\n",
    "print(get_playing_board(50))"
   ]
  }
 ],
 "metadata": {
  "kernelspec": {
   "display_name": "Python 3 (ipykernel)",
   "language": "python",
   "name": "python3"
  },
  "language_info": {
   "codemirror_mode": {
    "name": "ipython",
    "version": 3
   },
   "file_extension": ".py",
   "mimetype": "text/x-python",
   "name": "python",
   "nbconvert_exporter": "python",
   "pygments_lexer": "ipython3",
   "version": "3.11.9"
  }
 },
 "nbformat": 4,
 "nbformat_minor": 2
}
