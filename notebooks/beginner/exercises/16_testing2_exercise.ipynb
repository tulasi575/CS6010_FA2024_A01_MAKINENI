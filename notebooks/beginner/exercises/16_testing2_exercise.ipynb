{
 "cells": [
  {
   "cell_type": "code",
   "execution_count": 1,
   "metadata": {},
   "outputs": [
    {
     "name": "stdout",
     "output_type": "stream",
     "text": [
      "Requirement already satisfied: pytest in c:\\users\\makin\\appdata\\local\\packages\\pythonsoftwarefoundation.python.3.11_qbz5n2kfra8p0\\localcache\\local-packages\\python311\\site-packages (8.3.2)\n",
      "Requirement already satisfied: iniconfig in c:\\users\\makin\\appdata\\local\\packages\\pythonsoftwarefoundation.python.3.11_qbz5n2kfra8p0\\localcache\\local-packages\\python311\\site-packages (from pytest) (2.0.0)\n",
      "Requirement already satisfied: packaging in c:\\users\\makin\\appdata\\local\\packages\\pythonsoftwarefoundation.python.3.11_qbz5n2kfra8p0\\localcache\\local-packages\\python311\\site-packages (from pytest) (23.2)\n",
      "Requirement already satisfied: pluggy<2,>=1.5 in c:\\users\\makin\\appdata\\local\\packages\\pythonsoftwarefoundation.python.3.11_qbz5n2kfra8p0\\localcache\\local-packages\\python311\\site-packages (from pytest) (1.5.0)\n",
      "Requirement already satisfied: colorama in c:\\users\\makin\\appdata\\local\\packages\\pythonsoftwarefoundation.python.3.11_qbz5n2kfra8p0\\localcache\\local-packages\\python311\\site-packages (from pytest) (0.4.6)\n"
     ]
    },
    {
     "name": "stderr",
     "output_type": "stream",
     "text": [
      "\n",
      "[notice] A new release of pip is available: 24.0 -> 24.2\n",
      "[notice] To update, run: C:\\Users\\makin\\AppData\\Local\\Microsoft\\WindowsApps\\PythonSoftwareFoundation.Python.3.11_qbz5n2kfra8p0\\python.exe -m pip install --upgrade pip\n"
     ]
    },
    {
     "name": "stdout",
     "output_type": "stream",
     "text": [
      "Requirement already satisfied: ipytest in c:\\users\\makin\\appdata\\local\\packages\\pythonsoftwarefoundation.python.3.11_qbz5n2kfra8p0\\localcache\\local-packages\\python311\\site-packages (0.14.2)\n",
      "Requirement already satisfied: ipython in c:\\users\\makin\\appdata\\local\\packages\\pythonsoftwarefoundation.python.3.11_qbz5n2kfra8p0\\localcache\\local-packages\\python311\\site-packages (from ipytest) (8.27.0)\n",
      "Requirement already satisfied: packaging in c:\\users\\makin\\appdata\\local\\packages\\pythonsoftwarefoundation.python.3.11_qbz5n2kfra8p0\\localcache\\local-packages\\python311\\site-packages (from ipytest) (23.2)\n",
      "Requirement already satisfied: pytest>=5.4 in c:\\users\\makin\\appdata\\local\\packages\\pythonsoftwarefoundation.python.3.11_qbz5n2kfra8p0\\localcache\\local-packages\\python311\\site-packages (from ipytest) (8.3.2)\n",
      "Requirement already satisfied: iniconfig in c:\\users\\makin\\appdata\\local\\packages\\pythonsoftwarefoundation.python.3.11_qbz5n2kfra8p0\\localcache\\local-packages\\python311\\site-packages (from pytest>=5.4->ipytest) (2.0.0)\n",
      "Requirement already satisfied: pluggy<2,>=1.5 in c:\\users\\makin\\appdata\\local\\packages\\pythonsoftwarefoundation.python.3.11_qbz5n2kfra8p0\\localcache\\local-packages\\python311\\site-packages (from pytest>=5.4->ipytest) (1.5.0)\n",
      "Requirement already satisfied: colorama in c:\\users\\makin\\appdata\\local\\packages\\pythonsoftwarefoundation.python.3.11_qbz5n2kfra8p0\\localcache\\local-packages\\python311\\site-packages (from pytest>=5.4->ipytest) (0.4.6)\n",
      "Requirement already satisfied: decorator in c:\\users\\makin\\appdata\\local\\packages\\pythonsoftwarefoundation.python.3.11_qbz5n2kfra8p0\\localcache\\local-packages\\python311\\site-packages (from ipython->ipytest) (5.1.1)\n",
      "Requirement already satisfied: jedi>=0.16 in c:\\users\\makin\\appdata\\local\\packages\\pythonsoftwarefoundation.python.3.11_qbz5n2kfra8p0\\localcache\\local-packages\\python311\\site-packages (from ipython->ipytest) (0.19.1)\n",
      "Requirement already satisfied: matplotlib-inline in c:\\users\\makin\\appdata\\local\\packages\\pythonsoftwarefoundation.python.3.11_qbz5n2kfra8p0\\localcache\\local-packages\\python311\\site-packages (from ipython->ipytest) (0.1.7)\n",
      "Requirement already satisfied: prompt-toolkit<3.1.0,>=3.0.41 in c:\\users\\makin\\appdata\\local\\packages\\pythonsoftwarefoundation.python.3.11_qbz5n2kfra8p0\\localcache\\local-packages\\python311\\site-packages (from ipython->ipytest) (3.0.41)\n",
      "Requirement already satisfied: pygments>=2.4.0 in c:\\users\\makin\\appdata\\local\\packages\\pythonsoftwarefoundation.python.3.11_qbz5n2kfra8p0\\localcache\\local-packages\\python311\\site-packages (from ipython->ipytest) (2.17.2)\n",
      "Requirement already satisfied: stack-data in c:\\users\\makin\\appdata\\local\\packages\\pythonsoftwarefoundation.python.3.11_qbz5n2kfra8p0\\localcache\\local-packages\\python311\\site-packages (from ipython->ipytest) (0.6.3)\n",
      "Requirement already satisfied: traitlets>=5.13.0 in c:\\users\\makin\\appdata\\local\\packages\\pythonsoftwarefoundation.python.3.11_qbz5n2kfra8p0\\localcache\\local-packages\\python311\\site-packages (from ipython->ipytest) (5.14.0)\n",
      "Requirement already satisfied: typing-extensions>=4.6 in c:\\users\\makin\\appdata\\local\\packages\\pythonsoftwarefoundation.python.3.11_qbz5n2kfra8p0\\localcache\\local-packages\\python311\\site-packages (from ipython->ipytest) (4.12.2)\n",
      "Requirement already satisfied: parso<0.9.0,>=0.8.3 in c:\\users\\makin\\appdata\\local\\packages\\pythonsoftwarefoundation.python.3.11_qbz5n2kfra8p0\\localcache\\local-packages\\python311\\site-packages (from jedi>=0.16->ipython->ipytest) (0.8.3)\n",
      "Requirement already satisfied: wcwidth in c:\\users\\makin\\appdata\\local\\packages\\pythonsoftwarefoundation.python.3.11_qbz5n2kfra8p0\\localcache\\local-packages\\python311\\site-packages (from prompt-toolkit<3.1.0,>=3.0.41->ipython->ipytest) (0.2.12)\n",
      "Requirement already satisfied: executing>=1.2.0 in c:\\users\\makin\\appdata\\local\\packages\\pythonsoftwarefoundation.python.3.11_qbz5n2kfra8p0\\localcache\\local-packages\\python311\\site-packages (from stack-data->ipython->ipytest) (2.0.1)\n",
      "Requirement already satisfied: asttokens>=2.1.0 in c:\\users\\makin\\appdata\\local\\packages\\pythonsoftwarefoundation.python.3.11_qbz5n2kfra8p0\\localcache\\local-packages\\python311\\site-packages (from stack-data->ipython->ipytest) (2.4.1)\n",
      "Requirement already satisfied: pure-eval in c:\\users\\makin\\appdata\\local\\packages\\pythonsoftwarefoundation.python.3.11_qbz5n2kfra8p0\\localcache\\local-packages\\python311\\site-packages (from stack-data->ipython->ipytest) (0.2.2)\n",
      "Requirement already satisfied: six>=1.12.0 in c:\\users\\makin\\appdata\\local\\packages\\pythonsoftwarefoundation.python.3.11_qbz5n2kfra8p0\\localcache\\local-packages\\python311\\site-packages (from asttokens>=2.1.0->stack-data->ipython->ipytest) (1.16.0)\n"
     ]
    },
    {
     "name": "stderr",
     "output_type": "stream",
     "text": [
      "\n",
      "[notice] A new release of pip is available: 24.0 -> 24.2\n",
      "[notice] To update, run: C:\\Users\\makin\\AppData\\Local\\Microsoft\\WindowsApps\\PythonSoftwareFoundation.Python.3.11_qbz5n2kfra8p0\\python.exe -m pip install --upgrade pip\n"
     ]
    }
   ],
   "source": [
    "# Let's make sure pytest and ipytest packages are installed\n",
    "# ipytest is required for running pytest inside Jupyter notebooks\n",
    "import sys\n",
    "\n",
    "!{sys.executable} -m pip install pytest\n",
    "!{sys.executable} -m pip install ipytest\n",
    "\n",
    "# These are needed for running pytest inside Jupyter notebooks\n",
    "import ipytest\n",
    "import pytest\n",
    "\n",
    "ipytest.autoconfig()"
   ]
  },
  {
   "cell_type": "markdown",
   "metadata": {},
   "source": [
    "# 1. Finalize test cases\n",
    "The testing part of the `TodoList` implementation is incomplete. Fill `____` parts of the tests. "
   ]
  },
  {
   "cell_type": "code",
   "execution_count": 2,
   "metadata": {
    "editable": false
   },
   "outputs": [],
   "source": [
    "class TodoNotFound(Exception):\n",
    "    pass\n",
    "\n",
    "\n",
    "class TodoList:\n",
    "    def __init__(self):\n",
    "        self._todo = {}\n",
    "        self._done = {}\n",
    "        self._task_counter = 1\n",
    "\n",
    "    @property\n",
    "    def todo_tasks(self):\n",
    "        return self._todo\n",
    "\n",
    "    @property\n",
    "    def done_tasks(self):\n",
    "        return self._done\n",
    "\n",
    "    def add(self, task):\n",
    "        self._todo[self._task_counter] = task\n",
    "        self._task_counter += 1\n",
    "\n",
    "    def complete(self, number):\n",
    "        if number not in self._todo:\n",
    "            raise TodoNotFound(f\"{number} not in todos\")\n",
    "\n",
    "        task = self._todo.pop(number)\n",
    "        self._done[number] = task\n",
    "\n",
    "    def remove(self, number):\n",
    "        if number not in self._todo:\n",
    "            raise TodoNotFound(f\"{number} not in todos\")\n",
    "\n",
    "        del self._todo[number]"
   ]
  },
  {
   "cell_type": "markdown",
   "metadata": {},
   "source": [
    "Finalize tests for `TodoList`."
   ]
  },
  {
   "cell_type": "code",
   "execution_count": 3,
   "metadata": {},
   "outputs": [
    {
     "name": "stdout",
     "output_type": "stream",
     "text": [
      "\u001b[32m.\u001b[0m\u001b[32m.\u001b[0m\u001b[32m.\u001b[0m\u001b[32m.\u001b[0m\u001b[32m.\u001b[0m\u001b[32m.\u001b[0m\u001b[32m                                                                                       [100%]\u001b[0m\n",
      "\u001b[32m\u001b[32m\u001b[1m6 passed\u001b[0m\u001b[32m in 0.02s\u001b[0m\u001b[0m\n"
     ]
    }
   ],
   "source": [
    "%%ipytest\n",
    "\n",
    "\n",
    "@pytest.fixture\n",
    "def todo_list():\n",
    "    tl = TodoList()\n",
    "    tl.add('buy milk')\n",
    "    tl.add('take dog out')\n",
    "    tl.add('learn pytest fixtures')\n",
    "    return tl\n",
    "\n",
    "\n",
    "def test_todo_tasks_property(todo_list):\n",
    "    todo = todo_list.todo_tasks\n",
    "    assert todo == {\n",
    "        1: 'buy milk',\n",
    "        2: 'take dog out',\n",
    "        3: 'learn pytest fixtures'\n",
    "    }\n",
    "\n",
    "\n",
    "def test_add(todo_list):\n",
    "    todo_list.add('check pytest docs')\n",
    "    todos = todo_list.todo_tasks\n",
    "    assert todos[4] == 'check pytest docs'\n",
    "\n",
    "\n",
    "def test_complete(todo_list):\n",
    "    # Make sure there is not done tasks yet\n",
    "    assert not todo_list.done_tasks\n",
    "\n",
    "    todo_list.complete(3)\n",
    "    done = todo_list.done_tasks\n",
    "    todo = todo_list.todo_tasks\n",
    "    assert done[3] == 'learn pytest fixtures'\n",
    "    assert 3 not in todo\n",
    "\n",
    "\n",
    "def test_complete_with_unknown_task_number(todo_list):\n",
    "    # This is how you can test that a certain exception is raised\n",
    "    with pytest.raises(TodoNotFound):\n",
    "        todo_list.complete(10)\n",
    "\n",
    "\n",
    "def test_remove(todo_list):\n",
    "    todo_list.remove(1)\n",
    "    done = todo_list.done_tasks\n",
    "    todo = todo_list.todo_tasks\n",
    "\n",
    "    assert 1 not in todo\n",
    "    # Make sure it was not moved to done\n",
    "    assert 1 not in done\n",
    "\n",
    "\n",
    "def test_remove_with_unknown_task_number(todo_list):\n",
    "    with pytest.raises(TodoNotFound):\n",
    "        todo_list.remove(12)\n"
   ]
  },
  {
   "cell_type": "markdown",
   "metadata": {},
   "source": [
    "# 2. Testing the [Fibonacci numbers](https://en.wikipedia.org/wiki/Fibonacci_number)\n",
    "\n",
    "Implement a test for the `fibonacci` function. Use `pytest.mark.parametrize` and test at least with numbers: 0, 1, 2, 3, and 10. You can find the expected results and more information about the Fibonacci numbers [here](https://en.wikipedia.org/wiki/Fibonacci_number)."
   ]
  },
  {
   "cell_type": "code",
   "execution_count": 4,
   "metadata": {
    "editable": false
   },
   "outputs": [],
   "source": [
    "def fibonacci(number):\n",
    "    if number in [0, 1]:\n",
    "        return number\n",
    "    return fibonacci(number - 1) + fibonacci(number - 2)"
   ]
  },
  {
   "cell_type": "code",
   "execution_count": 5,
   "metadata": {},
   "outputs": [
    {
     "name": "stdout",
     "output_type": "stream",
     "text": [
      "\u001b[32m.\u001b[0m\u001b[32m.\u001b[0m\u001b[32m.\u001b[0m\u001b[32m.\u001b[0m\u001b[32m.\u001b[0m\u001b[32m                                                                                        [100%]\u001b[0m\n",
      "\u001b[32m\u001b[32m\u001b[1m5 passed\u001b[0m\u001b[32m in 0.01s\u001b[0m\u001b[0m\n"
     ]
    }
   ],
   "source": [
    "%%ipytest\n",
    "\n",
    "# Your implementation here\n",
    "@pytest.mark.parametrize(\n",
    "    \"input,expected\",\n",
    "    [\n",
    "        (0, 0),      # Fibonacci of 0 is 0\n",
    "        (1, 1),      # Fibonacci of 1 is 1\n",
    "        (2, 1),      # Fibonacci of 2 is 1\n",
    "        (3, 2),      # Fibonacci of 3 is 2\n",
    "        (10, 55)     # Fibonacci of 10 is 55\n",
    "    ]\n",
    ")\n",
    "def test_fibonacci(input, expected):\n",
    "    assert fibonacci(input) == expected\n"
   ]
  }
 ],
 "metadata": {
  "kernelspec": {
   "display_name": "Python 3 (ipykernel)",
   "language": "python",
   "name": "python3"
  },
  "language_info": {
   "codemirror_mode": {
    "name": "ipython",
    "version": 3
   },
   "file_extension": ".py",
   "mimetype": "text/x-python",
   "name": "python",
   "nbconvert_exporter": "python",
   "pygments_lexer": "ipython3",
   "version": "3.11.9"
  }
 },
 "nbformat": 4,
 "nbformat_minor": 2
}
